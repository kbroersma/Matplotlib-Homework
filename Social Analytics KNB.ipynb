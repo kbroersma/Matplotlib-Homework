{
 "cells": [
  {
   "cell_type": "code",
   "execution_count": null,
   "metadata": {},
   "outputs": [],
   "source": [
    "from vaderSentiment.vaderSentiment import SentimentIntensityAnalyzer\n",
    "analyzer = SentimentIntensityAnalyzer()\n",
    "\n",
    "import tweepy\n",
    "import json\n",
    "import numpy as np\n",
    "import pandas as pd\n",
    "import matplotlib.pyplot as plt"
   ]
  },
  {
   "cell_type": "code",
   "execution_count": null,
   "metadata": {},
   "outputs": [],
   "source": [
    "consumer_key = \"DJOXCCYfFWSoWwlnx8UgQpAOP\"\n",
    "consumer_secret = \"Vr4mZffVl4e7oi2u2B9aXuNtfafSPzTZVZ9yybjmyOuu1SVl35\"\n",
    "access_token = \"1031762329505939456-9boU68QlZs1cRU0irOBxzkAGbIvNiz\"\n",
    "access_token_secret = \"5T4Kq2JwWCb6obxWE67qvPTY0myT0IJBWgQhnT5g9m3kU\"\n",
    "\n",
    "\n",
    "auth = tweepy.OAuthHandler(consumer_key, consumer_secret)\n",
    "auth.set_access_token(access_token, access_token_secret)\n",
    "api = tweepy.API(auth)"
   ]
  },
  {
   "cell_type": "code",
   "execution_count": null,
   "metadata": {},
   "outputs": [],
   "source": [
    "target_user = ['@BBCNews','@CBSNews','@CNN','@FoxNews','@NYT']"
   ]
  },
  {
   "cell_type": "code",
   "execution_count": null,
   "metadata": {},
   "outputs": [],
   "source": [
    "df = pd.DataFrame({\"@BBCNews\":'',\n",
    "                   \"@CBSNews\":'',\n",
    "                   \"@CNN\":'',\n",
    "                   \"@FoxNews\":'',\n",
    "                   \"@NYT\":''}, index=[0])\n",
    "df.head()"
   ]
  },
  {
   "cell_type": "code",
   "execution_count": null,
   "metadata": {},
   "outputs": [],
   "source": []
  },
  {
   "cell_type": "code",
   "execution_count": null,
   "metadata": {},
   "outputs": [],
   "source": [
    "\n",
    "for user in target_user:\n",
    "    counter = 0\n",
    "    # Loop through 100 tweets\n",
    "    for status in tweepy.Cursor(api.user_timeline, id=user).items(100):\n",
    "        text = status.text\n",
    "        # Vader Analysis on each tweet\n",
    "        compound = analyzer.polarity_scores(text)[\"compound\"]\n",
    "        \n",
    "        # Add each value to the dataframe\n",
    "        df.set_value(counter, user, compound)\n",
    "        counter = counter + 1"
   ]
  },
  {
   "cell_type": "code",
   "execution_count": null,
   "metadata": {},
   "outputs": [],
   "source": [
    "df.head()"
   ]
  },
  {
   "cell_type": "code",
   "execution_count": null,
   "metadata": {},
   "outputs": [],
   "source": [
    "x = np.arange(100, 0, -1)\n",
    "a = plt.scatter(x, df['@BBCNews'], alpha=0.5)\n",
    "b = plt.scatter(x, df['@CBSNews'], alpha=0.5)\n",
    "c = plt.scatter(x, df['@CNN'], alpha=0.5)\n",
    "d = plt.scatter(x, df['@FoxNews'], alpha=0.5)\n",
    "e = plt.scatter(x, df['@NYT'], alpha=0.5)\n",
    "plt.title('Sentiment Analysis of Tweets (09/17/2018)')\n",
    "plt.xlabel('Number of Tweets')\n",
    "plt.ylabel('Compound Sentiment Score')\n",
    "plt.gca().invert_xaxis()\n",
    "plt.legend((a,b,c,d,e),('@BBCNews', '@CBSNews','@CNN', '@FoxNews', '@nytimes'),numpoints=1, loc='upper right', ncol=1, fontsize=8)\n",
    "lgd = plt.legend(bbox_to_anchor=(1, 1))\n",
    "plt.savefig('Sentiment_scatter_plot.png', bbox_extra_artists=(lgd,), bbox_inches='tight')\n",
    "plt.show()"
   ]
  },
  {
   "cell_type": "code",
   "execution_count": null,
   "metadata": {},
   "outputs": [],
   "source": [
    "# average news channel\n",
    "\n",
    "df_mean = df.mean()\n",
    "\n",
    "df_mean.head()"
   ]
  },
  {
   "cell_type": "code",
   "execution_count": null,
   "metadata": {},
   "outputs": [],
   "source": [
    "df_mean.plot(kind='bar')\n",
    "plt.title('Average Sentiment Score of Last 100 Tweets')\n",
    "plt.xlabel('News Organization')\n",
    "plt.ylabel('Average Sentiment Score')\n",
    "plt.savefig('Sentiment_Avg.png')\n",
    "plt.tight_layout()\n",
    "plt.show()"
   ]
  },
  {
   "cell_type": "code",
   "execution_count": null,
   "metadata": {},
   "outputs": [],
   "source": []
  },
  {
   "cell_type": "code",
   "execution_count": null,
   "metadata": {},
   "outputs": [],
   "source": []
  },
  {
   "cell_type": "code",
   "execution_count": null,
   "metadata": {},
   "outputs": [],
   "source": []
  }
 ],
 "metadata": {
  "kernelspec": {
   "display_name": "Python 3",
   "language": "python",
   "name": "python3"
  },
  "language_info": {
   "codemirror_mode": {
    "name": "ipython",
    "version": 3
   },
   "file_extension": ".py",
   "mimetype": "text/x-python",
   "name": "python",
   "nbconvert_exporter": "python",
   "pygments_lexer": "ipython3",
   "version": "3.6.5"
  }
 },
 "nbformat": 4,
 "nbformat_minor": 2
}
